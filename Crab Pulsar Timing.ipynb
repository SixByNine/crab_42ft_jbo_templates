{
 "cells": [
  {
   "cell_type": "markdown",
   "metadata": {},
   "source": [
    "# Pulse arrival times from the Crab pulsar\n",
    "## Crab Pulsar Experiment Part 3.2\n",
    "\n",
    "Use this notebook as a template for Part 3.2 of the Crab pulsar experiment."
   ]
  },
  {
   "cell_type": "code",
   "execution_count": 1,
   "metadata": {},
   "outputs": [],
   "source": [
    "# To begin, we import some libraries that we will need later.\n",
    "\n",
    "# Some handy standard python libraries\n",
    "import os\n",
    "\n",
    "# The numpy library is very useful for many things\n",
    "import numpy as np\n",
    "\n",
    "# The interpolate library from scipy includes powerful interpolation routines\n",
    "# including the Lagrange interpolation described in the lab script.\n",
    "from scipy import interpolate\n",
    "\n",
    "# Astropy provides many useful tools...\n",
    "from astropy import coordinates as coord\n",
    "from astropy import units as u\n",
    "from astropy import constants as const\n",
    "from astropy import time as astrotime\n",
    "\n",
    "# The pyplot module from matplotlib will allow us to plot things.\n",
    "from matplotlib import pyplot as plt\n",
    "from math import pi"
   ]
  },
  {
   "cell_type": "markdown",
   "metadata": {},
   "source": [
    "## Load Data\n",
    "Here we load your ToA data as well as the file containing solar system barycentre coordinates."
   ]
  },
  {
   "cell_type": "code",
   "execution_count": 2,
   "metadata": {},
   "outputs": [],
   "source": [
    "# Specify the file with ToAs you want to work on.\n",
    "toafile  = \"example.txt\"\n",
    "baryfile = \"ssb_files/ssb_2022.txt\" # ssb_2022 will work for all of 2022.\n",
    "\n",
    "# Read the barycentre file... Read the numpy loadtxt page to understand what this does...\n",
    "year, month, day, xpos, ypos, zpos = np.loadtxt(baryfile,unpack=True)\n",
    "\n",
    "# @todo: Load in your ToAs in a similar way.\n",
    "# ..."
   ]
  },
  {
   "cell_type": "markdown",
   "metadata": {},
   "source": [
    "## Interpolation\n",
    "The Earth-barycentre vector is only given once per day (at 0 UT) in your input file. Therefore you will need to [interpolate](https://en.wikipedia.org/wiki/Interpolation) to get the vector at the time of each of your ToAs.\n",
    "\n",
    "The below is an example code showing interpolation of a simple sinusoid function. Make sure you understand what this code is doing, then replace it with a function to interpolate your x, y and z positions at the times of your ToAs."
   ]
  },
  {
   "cell_type": "code",
   "execution_count": 3,
   "metadata": {},
   "outputs": [
    {
     "data": {
      "image/png": "[encoded data removed]",
      "text/plain": [
       "<Figure size 432x288 with 1 Axes>"
      ]
     },
     "metadata": {
      "needs_background": "light"
     },
     "output_type": "display_data"
    },
    {
     "data": {
      "image/png": "[encoded data removed]",
      "text/plain": [
       "<Figure size 432x288 with 1 Axes>"
      ]
     },
     "metadata": {
      "needs_background": "light"
     },
     "output_type": "display_data"
    }
   ],
   "source": [
    "# Interpolation example, interpolating part of a sine function.\n",
    "\n",
    "# This is the X and Y data points of the sine function\n",
    "x = np.linspace(start=0,stop=2,num=20)\n",
    "y = np.sin(2*pi*x)\n",
    "\n",
    "# We will interpolate using\n",
    "start_point = 6\n",
    "interp_number=3\n",
    "\n",
    "interp_function = interpolate.lagrange(x[start_point:start_point+interp_number],\\\n",
    "                                       y[start_point:start_point+interp_number])\n",
    "\n",
    "x2 = np.linspace(x[start_point],x[start_point+interp_number],100)\n",
    "y2 = interp_function(x2)\n",
    "\n",
    "y3 = np.sin(2*pi*x2)\n",
    "\n",
    "plt.plot(x,y,'o',color='green')\n",
    "plt.plot(x2,y2,'.',color='blue')\n",
    "plt.plot(x2,y3,'-',color='red')\n",
    "plt.ylim(-1.1,1.1)\n",
    "plt.title(\"Interpolation Example\")\n",
    "plt.figure()\n",
    "plt.plot(x2,y2-y3,'.',color='red')\n",
    "plt.title(\"Deviation from true function\")\n",
    "plt.show()\n"
   ]
  },
  {
   "cell_type": "markdown",
   "metadata": {},
   "source": [
    "## Compute the Earth delay\n",
    "\n",
    "This is the delay due to the fact that the observatory is not at the centre of the Earth. For this, you need to know the elevation angle above the horizon (see the lab script for more details).\n",
    "\n",
    "The [Astropy](http://www.astropy.org/) library provides very powerful tools to do things like coordinate transforms. Here we want to convert from equitorial (RA and Dec) coordinate system to an observatory-based [AltAz](http://docs.astropy.org/en/stable/api/astropy.coordinates.AltAz.html) coordinate system. Make sure you are familiar with these two coordinate systems. The conversion from one to the other requries knowing the location of your telecsope and also the time the observations were taken.\n",
    "\n",
    "The following libraries have been imported for your convinience:\n",
    " * ``astropy.coordinate`` has been imported as ``coord``\n",
    " * ``astropy.time`` has been imported as ``astrotime``\n",
    " "
   ]
  },
  {
   "cell_type": "code",
   "execution_count": 4,
   "metadata": {},
   "outputs": [],
   "source": [
    "# Insert the position of the crab pulsar here!\n",
    "pulsarpos = coord.SkyCoord(ra=\"01:23:45.6\",dec=\"12:34:56.7\",unit=(u.hourangle,u.deg))\n",
    "\n",
    "#lovellpos = coord.EarthLocation(...)\n",
    "\n",
    "#times = astrotime.Time(...)\n",
    "\n",
    "# To compute the angle between the pulsar and the earth we can use astropy to tell us the elevation angle to the pulsar.\n",
    "# First Transform the coordinate system to an Alt-Az system. This needs the location of the telescope and the times\n",
    "# of the observation.\n",
    "# altaz = pulsarpos.transform_to(coord.AltAz(obstime=times,location=lovellpos))\n",
    "\n",
    "\n",
    "# earth_delay = ..."
   ]
  },
  {
   "cell_type": "markdown",
   "metadata": {},
   "source": [
    "## Compute the Roemer delay\n",
    "\n",
    "This is the delay corresponding to the distance of the centre of the Earth to the barycentre.\n"
   ]
  },
  {
   "cell_type": "code",
   "execution_count": 5,
   "metadata": {},
   "outputs": [],
   "source": [
    "\n",
    "\n",
    "# psr_x = ...\n",
    "# psr_y = ...\n",
    "# psr_z = ...\n",
    "\n",
    "# roemer_delay = ..."
   ]
  },
  {
   "cell_type": "markdown",
   "metadata": {},
   "source": [
    "## Residuals from a fixed period model\n",
    "\n"
   ]
  },
  {
   "cell_type": "code",
   "execution_count": 6,
   "metadata": {},
   "outputs": [],
   "source": [
    "# The data file includes a sutiable 'guess period' as described in the lab script.\n",
    "# You can either load the data file or get it from the 'Make Time of Arrivals' notebook.\n",
    "period_guess = ...\n",
    "\n",
    "\n",
    "# residual = \n",
    "\n",
    "# Do fitting (try the polyfit routine in numpy)"
   ]
  },
  {
   "cell_type": "code",
   "execution_count": null,
   "metadata": {},
   "outputs": [],
   "source": []
  },
  {
   "cell_type": "code",
   "execution_count": null,
   "metadata": {},
   "outputs": [],
   "source": []
  },
  {
   "cell_type": "code",
   "execution_count": null,
   "metadata": {},
   "outputs": [],
   "source": []
  },
  {
   "cell_type": "code",
   "execution_count": null,
   "metadata": {},
   "outputs": [],
   "source": []
  }
 ],
 "metadata": {
  "kernelspec": {
   "display_name": "Python 3",
   "language": "python",
   "name": "python3"
  },
  "language_info": {
   "codemirror_mode": {
    "name": "ipython",
    "version": 3
   },
   "file_extension": ".py",
   "mimetype": "text/x-python",
   "name": "python",
   "nbconvert_exporter": "python",
   "pygments_lexer": "ipython3",
   "version": "3.8.8"
  }
 },
 "nbformat": 4,
 "nbformat_minor": 4
}
